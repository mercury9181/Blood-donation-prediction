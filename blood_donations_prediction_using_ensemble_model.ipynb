{
  "nbformat": 4,
  "nbformat_minor": 0,
  "metadata": {
    "kernelspec": {
      "language": "python",
      "display_name": "Python 3",
      "name": "python3"
    },
    "language_info": {
      "name": "python",
      "version": "3.7.9",
      "mimetype": "text/x-python",
      "codemirror_mode": {
        "name": "ipython",
        "version": 3
      },
      "pygments_lexer": "ipython3",
      "nbconvert_exporter": "python",
      "file_extension": ".py"
    },
    "colab": {
      "name": "blood-donations-prediction-using-ensemble-model.ipynb",
      "provenance": []
    }
  },
  "cells": [
    {
      "cell_type": "markdown",
      "metadata": {
        "_uuid": "8f2839f25d086af736a60e9eeb907d3b93b6e0e5",
        "_cell_guid": "b1076dfc-b9ad-4769-8c92-a6c4dae69d19",
        "id": "FB-CrN4IjCWB"
      },
      "source": [
        "# Import Necessary libs"
      ]
    },
    {
      "cell_type": "code",
      "metadata": {
        "trusted": true,
        "id": "H1I88y88jCWI"
      },
      "source": [
        "import pandas as pd\n",
        "import numpy as np\n",
        "from sklearn.model_selection import train_test_split\n",
        "from sklearn.metrics import accuracy_score\n",
        "from sklearn.metrics import roc_auc_score\n",
        "from sklearn.ensemble import RandomForestClassifier\n",
        "\n",
        "from sklearn.linear_model import LogisticRegression\n",
        "from sklearn.tree import DecisionTreeClassifier\n",
        "from sklearn.neighbors import KNeighborsClassifier as KNN\n",
        "from sklearn.ensemble import VotingClassifier\n",
        "from sklearn.svm import SVC\n",
        "from sklearn.naive_bayes import GaussianNB"
      ],
      "execution_count": null,
      "outputs": []
    },
    {
      "cell_type": "markdown",
      "metadata": {
        "id": "lM44OTCajCWJ"
      },
      "source": [
        "# Importing data"
      ]
    },
    {
      "cell_type": "code",
      "metadata": {
        "trusted": true,
        "id": "kYkZuxaRjCWJ",
        "outputId": "53f4a9a3-5ad5-462b-aaa5-6cbe98ed0287"
      },
      "source": [
        "data = pd.read_csv('../input/transfusion-dataset/transfusion.data')\n",
        "data.head()"
      ],
      "execution_count": null,
      "outputs": [
        {
          "output_type": "execute_result",
          "data": {
            "text/plain": [
              "   Recency (months)  Frequency (times)  Monetary (c.c. blood)  Time (months)  \\\n",
              "0                 2                 50                  12500             98   \n",
              "1                 0                 13                   3250             28   \n",
              "2                 1                 16                   4000             35   \n",
              "3                 2                 20                   5000             45   \n",
              "4                 1                 24                   6000             77   \n",
              "\n",
              "   whether he/she donated blood in March 2007  \n",
              "0                                           1  \n",
              "1                                           1  \n",
              "2                                           1  \n",
              "3                                           1  \n",
              "4                                           0  "
            ],
            "text/html": [
              "<div>\n",
              "<style scoped>\n",
              "    .dataframe tbody tr th:only-of-type {\n",
              "        vertical-align: middle;\n",
              "    }\n",
              "\n",
              "    .dataframe tbody tr th {\n",
              "        vertical-align: top;\n",
              "    }\n",
              "\n",
              "    .dataframe thead th {\n",
              "        text-align: right;\n",
              "    }\n",
              "</style>\n",
              "<table border=\"1\" class=\"dataframe\">\n",
              "  <thead>\n",
              "    <tr style=\"text-align: right;\">\n",
              "      <th></th>\n",
              "      <th>Recency (months)</th>\n",
              "      <th>Frequency (times)</th>\n",
              "      <th>Monetary (c.c. blood)</th>\n",
              "      <th>Time (months)</th>\n",
              "      <th>whether he/she donated blood in March 2007</th>\n",
              "    </tr>\n",
              "  </thead>\n",
              "  <tbody>\n",
              "    <tr>\n",
              "      <th>0</th>\n",
              "      <td>2</td>\n",
              "      <td>50</td>\n",
              "      <td>12500</td>\n",
              "      <td>98</td>\n",
              "      <td>1</td>\n",
              "    </tr>\n",
              "    <tr>\n",
              "      <th>1</th>\n",
              "      <td>0</td>\n",
              "      <td>13</td>\n",
              "      <td>3250</td>\n",
              "      <td>28</td>\n",
              "      <td>1</td>\n",
              "    </tr>\n",
              "    <tr>\n",
              "      <th>2</th>\n",
              "      <td>1</td>\n",
              "      <td>16</td>\n",
              "      <td>4000</td>\n",
              "      <td>35</td>\n",
              "      <td>1</td>\n",
              "    </tr>\n",
              "    <tr>\n",
              "      <th>3</th>\n",
              "      <td>2</td>\n",
              "      <td>20</td>\n",
              "      <td>5000</td>\n",
              "      <td>45</td>\n",
              "      <td>1</td>\n",
              "    </tr>\n",
              "    <tr>\n",
              "      <th>4</th>\n",
              "      <td>1</td>\n",
              "      <td>24</td>\n",
              "      <td>6000</td>\n",
              "      <td>77</td>\n",
              "      <td>0</td>\n",
              "    </tr>\n",
              "  </tbody>\n",
              "</table>\n",
              "</div>"
            ]
          },
          "metadata": {
            "tags": []
          },
          "execution_count": 2
        }
      ]
    },
    {
      "cell_type": "markdown",
      "metadata": {
        "id": "WxiR8QdUjCWK"
      },
      "source": [
        "# insight on the dataset"
      ]
    },
    {
      "cell_type": "code",
      "metadata": {
        "trusted": true,
        "id": "WbEDcWzVjCWL",
        "outputId": "5e2449a5-365c-4103-e83d-46e3a2e1fbd6"
      },
      "source": [
        "data.count()"
      ],
      "execution_count": null,
      "outputs": [
        {
          "output_type": "execute_result",
          "data": {
            "text/plain": [
              "Recency (months)                              748\n",
              "Frequency (times)                             748\n",
              "Monetary (c.c. blood)                         748\n",
              "Time (months)                                 748\n",
              "whether he/she donated blood in March 2007    748\n",
              "dtype: int64"
            ]
          },
          "metadata": {
            "tags": []
          },
          "execution_count": 3
        }
      ]
    },
    {
      "cell_type": "markdown",
      "metadata": {
        "id": "ar4YPI2tjCWL"
      },
      "source": [
        "***Checking for null values or missing data (Good news! we do not have any NAN values in the dataset)***"
      ]
    },
    {
      "cell_type": "code",
      "metadata": {
        "trusted": true,
        "id": "oJTInhfcjCWL",
        "outputId": "50cf578b-0564-4795-a4ac-bb6548a51b7c"
      },
      "source": [
        "data.isnull().sum(axis = 0)"
      ],
      "execution_count": null,
      "outputs": [
        {
          "output_type": "execute_result",
          "data": {
            "text/plain": [
              "Recency (months)                              0\n",
              "Frequency (times)                             0\n",
              "Monetary (c.c. blood)                         0\n",
              "Time (months)                                 0\n",
              "whether he/she donated blood in March 2007    0\n",
              "dtype: int64"
            ]
          },
          "metadata": {
            "tags": []
          },
          "execution_count": 4
        }
      ]
    },
    {
      "cell_type": "markdown",
      "metadata": {
        "id": "nPOps-JljCWM"
      },
      "source": [
        "***monetary needs scaling***"
      ]
    },
    {
      "cell_type": "code",
      "metadata": {
        "trusted": true,
        "id": "wngOouoojCWM",
        "outputId": "4ef85169-13fc-4cd3-d806-360657089f25"
      },
      "source": [
        "data.describe()"
      ],
      "execution_count": null,
      "outputs": [
        {
          "output_type": "execute_result",
          "data": {
            "text/plain": [
              "       Recency (months)  Frequency (times)  Monetary (c.c. blood)  \\\n",
              "count        748.000000         748.000000             748.000000   \n",
              "mean           9.506684           5.514706            1378.676471   \n",
              "std            8.095396           5.839307            1459.826781   \n",
              "min            0.000000           1.000000             250.000000   \n",
              "25%            2.750000           2.000000             500.000000   \n",
              "50%            7.000000           4.000000            1000.000000   \n",
              "75%           14.000000           7.000000            1750.000000   \n",
              "max           74.000000          50.000000           12500.000000   \n",
              "\n",
              "       Time (months)  whether he/she donated blood in March 2007  \n",
              "count     748.000000                                  748.000000  \n",
              "mean       34.282086                                    0.237968  \n",
              "std        24.376714                                    0.426124  \n",
              "min         2.000000                                    0.000000  \n",
              "25%        16.000000                                    0.000000  \n",
              "50%        28.000000                                    0.000000  \n",
              "75%        50.000000                                    0.000000  \n",
              "max        98.000000                                    1.000000  "
            ],
            "text/html": [
              "<div>\n",
              "<style scoped>\n",
              "    .dataframe tbody tr th:only-of-type {\n",
              "        vertical-align: middle;\n",
              "    }\n",
              "\n",
              "    .dataframe tbody tr th {\n",
              "        vertical-align: top;\n",
              "    }\n",
              "\n",
              "    .dataframe thead th {\n",
              "        text-align: right;\n",
              "    }\n",
              "</style>\n",
              "<table border=\"1\" class=\"dataframe\">\n",
              "  <thead>\n",
              "    <tr style=\"text-align: right;\">\n",
              "      <th></th>\n",
              "      <th>Recency (months)</th>\n",
              "      <th>Frequency (times)</th>\n",
              "      <th>Monetary (c.c. blood)</th>\n",
              "      <th>Time (months)</th>\n",
              "      <th>whether he/she donated blood in March 2007</th>\n",
              "    </tr>\n",
              "  </thead>\n",
              "  <tbody>\n",
              "    <tr>\n",
              "      <th>count</th>\n",
              "      <td>748.000000</td>\n",
              "      <td>748.000000</td>\n",
              "      <td>748.000000</td>\n",
              "      <td>748.000000</td>\n",
              "      <td>748.000000</td>\n",
              "    </tr>\n",
              "    <tr>\n",
              "      <th>mean</th>\n",
              "      <td>9.506684</td>\n",
              "      <td>5.514706</td>\n",
              "      <td>1378.676471</td>\n",
              "      <td>34.282086</td>\n",
              "      <td>0.237968</td>\n",
              "    </tr>\n",
              "    <tr>\n",
              "      <th>std</th>\n",
              "      <td>8.095396</td>\n",
              "      <td>5.839307</td>\n",
              "      <td>1459.826781</td>\n",
              "      <td>24.376714</td>\n",
              "      <td>0.426124</td>\n",
              "    </tr>\n",
              "    <tr>\n",
              "      <th>min</th>\n",
              "      <td>0.000000</td>\n",
              "      <td>1.000000</td>\n",
              "      <td>250.000000</td>\n",
              "      <td>2.000000</td>\n",
              "      <td>0.000000</td>\n",
              "    </tr>\n",
              "    <tr>\n",
              "      <th>25%</th>\n",
              "      <td>2.750000</td>\n",
              "      <td>2.000000</td>\n",
              "      <td>500.000000</td>\n",
              "      <td>16.000000</td>\n",
              "      <td>0.000000</td>\n",
              "    </tr>\n",
              "    <tr>\n",
              "      <th>50%</th>\n",
              "      <td>7.000000</td>\n",
              "      <td>4.000000</td>\n",
              "      <td>1000.000000</td>\n",
              "      <td>28.000000</td>\n",
              "      <td>0.000000</td>\n",
              "    </tr>\n",
              "    <tr>\n",
              "      <th>75%</th>\n",
              "      <td>14.000000</td>\n",
              "      <td>7.000000</td>\n",
              "      <td>1750.000000</td>\n",
              "      <td>50.000000</td>\n",
              "      <td>0.000000</td>\n",
              "    </tr>\n",
              "    <tr>\n",
              "      <th>max</th>\n",
              "      <td>74.000000</td>\n",
              "      <td>50.000000</td>\n",
              "      <td>12500.000000</td>\n",
              "      <td>98.000000</td>\n",
              "      <td>1.000000</td>\n",
              "    </tr>\n",
              "  </tbody>\n",
              "</table>\n",
              "</div>"
            ]
          },
          "metadata": {
            "tags": []
          },
          "execution_count": 5
        }
      ]
    },
    {
      "cell_type": "markdown",
      "metadata": {
        "id": "dVu8NdoLjCWN"
      },
      "source": [
        "From the varience of the coulmns we can see that Monetary (c.c. blood) needs normalization due to high varience. \n",
        "***monetary needs scaling***\n",
        "**NB: After dividing the data from the training and test sets, normalization between instances can be performed using data from the training set and testing set. Since the test set represents new, previously unknown data, it is not meant to be available during the training period. It also reduces possible data leakage problem.**\n"
      ]
    },
    {
      "cell_type": "code",
      "metadata": {
        "trusted": true,
        "id": "ClLYs_rwjCWN",
        "outputId": "b9db5908-4db7-4693-f456-d9095eb4d42a"
      },
      "source": [
        "data.var().round(3)"
      ],
      "execution_count": null,
      "outputs": [
        {
          "output_type": "execute_result",
          "data": {
            "text/plain": [
              "Recency (months)                                   65.535\n",
              "Frequency (times)                                  34.098\n",
              "Monetary (c.c. blood)                         2131094.230\n",
              "Time (months)                                     594.224\n",
              "whether he/she donated blood in March 2007          0.182\n",
              "dtype: float64"
            ]
          },
          "metadata": {
            "tags": []
          },
          "execution_count": 6
        }
      ]
    },
    {
      "cell_type": "markdown",
      "metadata": {
        "id": "vVEVuqV9jCWN"
      },
      "source": [
        "# Preporcessing"
      ]
    },
    {
      "cell_type": "code",
      "metadata": {
        "trusted": true,
        "id": "EDAxxwx9jCWO"
      },
      "source": [
        "# rename the target or prediction coloumn \n",
        "data.rename(columns={'whether he/she donated blood in March 2007': 'target'},inplace=True)"
      ],
      "execution_count": null,
      "outputs": []
    },
    {
      "cell_type": "code",
      "metadata": {
        "trusted": true,
        "id": "lZ1Gg7TZjCWO",
        "outputId": "652e3b46-fab8-4bfa-d441-096a0023bbbf"
      },
      "source": [
        "X= data.drop(columns='target')\n",
        "X.head()"
      ],
      "execution_count": null,
      "outputs": [
        {
          "output_type": "execute_result",
          "data": {
            "text/plain": [
              "   Recency (months)  Frequency (times)  Monetary (c.c. blood)  Time (months)\n",
              "0                 2                 50                  12500             98\n",
              "1                 0                 13                   3250             28\n",
              "2                 1                 16                   4000             35\n",
              "3                 2                 20                   5000             45\n",
              "4                 1                 24                   6000             77"
            ],
            "text/html": [
              "<div>\n",
              "<style scoped>\n",
              "    .dataframe tbody tr th:only-of-type {\n",
              "        vertical-align: middle;\n",
              "    }\n",
              "\n",
              "    .dataframe tbody tr th {\n",
              "        vertical-align: top;\n",
              "    }\n",
              "\n",
              "    .dataframe thead th {\n",
              "        text-align: right;\n",
              "    }\n",
              "</style>\n",
              "<table border=\"1\" class=\"dataframe\">\n",
              "  <thead>\n",
              "    <tr style=\"text-align: right;\">\n",
              "      <th></th>\n",
              "      <th>Recency (months)</th>\n",
              "      <th>Frequency (times)</th>\n",
              "      <th>Monetary (c.c. blood)</th>\n",
              "      <th>Time (months)</th>\n",
              "    </tr>\n",
              "  </thead>\n",
              "  <tbody>\n",
              "    <tr>\n",
              "      <th>0</th>\n",
              "      <td>2</td>\n",
              "      <td>50</td>\n",
              "      <td>12500</td>\n",
              "      <td>98</td>\n",
              "    </tr>\n",
              "    <tr>\n",
              "      <th>1</th>\n",
              "      <td>0</td>\n",
              "      <td>13</td>\n",
              "      <td>3250</td>\n",
              "      <td>28</td>\n",
              "    </tr>\n",
              "    <tr>\n",
              "      <th>2</th>\n",
              "      <td>1</td>\n",
              "      <td>16</td>\n",
              "      <td>4000</td>\n",
              "      <td>35</td>\n",
              "    </tr>\n",
              "    <tr>\n",
              "      <th>3</th>\n",
              "      <td>2</td>\n",
              "      <td>20</td>\n",
              "      <td>5000</td>\n",
              "      <td>45</td>\n",
              "    </tr>\n",
              "    <tr>\n",
              "      <th>4</th>\n",
              "      <td>1</td>\n",
              "      <td>24</td>\n",
              "      <td>6000</td>\n",
              "      <td>77</td>\n",
              "    </tr>\n",
              "  </tbody>\n",
              "</table>\n",
              "</div>"
            ]
          },
          "metadata": {
            "tags": []
          },
          "execution_count": 8
        }
      ]
    },
    {
      "cell_type": "code",
      "metadata": {
        "trusted": true,
        "id": "TrziGWydjCWO",
        "outputId": "7b8b8898-7cd9-42f2-8f58-33000282476b"
      },
      "source": [
        "y= data['target']\n",
        "y.value_counts()"
      ],
      "execution_count": null,
      "outputs": [
        {
          "output_type": "execute_result",
          "data": {
            "text/plain": [
              "0    570\n",
              "1    178\n",
              "Name: target, dtype: int64"
            ]
          },
          "metadata": {
            "tags": []
          },
          "execution_count": 9
        }
      ]
    },
    {
      "cell_type": "code",
      "metadata": {
        "trusted": true,
        "id": "X5ou5FaejCWP"
      },
      "source": [
        "X_train, X_test, y_train, y_test = train_test_split(X, y,test_size= 0.2,random_state= 1,stratify=y)"
      ],
      "execution_count": null,
      "outputs": []
    },
    {
      "cell_type": "code",
      "metadata": {
        "trusted": true,
        "id": "AIUP-stVjCWP",
        "outputId": "1da4d895-2ccd-4f48-a8b9-3ca9300b2c33"
      },
      "source": [
        "X_train.var().round(3)"
      ],
      "execution_count": null,
      "outputs": [
        {
          "output_type": "execute_result",
          "data": {
            "text/plain": [
              "Recency (months)              62.404\n",
              "Frequency (times)             34.788\n",
              "Monetary (c.c. blood)    2174231.140\n",
              "Time (months)                612.595\n",
              "dtype: float64"
            ]
          },
          "metadata": {
            "tags": []
          },
          "execution_count": 11
        }
      ]
    },
    {
      "cell_type": "markdown",
      "metadata": {
        "id": "fQCSvl61jCWP"
      },
      "source": [
        "***Perform log normalization ***"
      ]
    },
    {
      "cell_type": "code",
      "metadata": {
        "trusted": true,
        "id": "RtbGnos_jCWQ",
        "outputId": "5a7374aa-063f-46f5-8e5f-00bf1bae5f2d"
      },
      "source": [
        "\n",
        "X_train_normed, X_test_normed = X_train.copy(), X_test.copy()\n",
        "col_to_normalize = 'Monetary (c.c. blood)'\n",
        "# Log normalization\n",
        "for data_ in [X_train_normed, X_test_normed]:\n",
        "    data_['monetary_log'] = np.log(data_[col_to_normalize])\n",
        "    data_.drop(columns=col_to_normalize, inplace=True)\n",
        "X_train_normed.var()"
      ],
      "execution_count": null,
      "outputs": [
        {
          "output_type": "execute_result",
          "data": {
            "text/plain": [
              "Recency (months)      62.404453\n",
              "Frequency (times)     34.787698\n",
              "Time (months)        612.595194\n",
              "monetary_log           0.856891\n",
              "dtype: float64"
            ]
          },
          "metadata": {
            "tags": []
          },
          "execution_count": 12
        }
      ]
    },
    {
      "cell_type": "markdown",
      "metadata": {
        "id": "kU9XY3uejCWQ"
      },
      "source": [
        "# **Model**"
      ]
    },
    {
      "cell_type": "markdown",
      "metadata": {
        "id": "-CRWZRW6jCWQ"
      },
      "source": [
        "create instance of \n",
        "*  logistic regression\n",
        "*  Support Vector Classification\n",
        "*  Naive biar classification\n",
        "*  Random forest classification"
      ]
    },
    {
      "cell_type": "code",
      "metadata": {
        "trusted": true,
        "id": "2t66000VjCWR"
      },
      "source": [
        "lr = LogisticRegression(random_state=40)\n",
        "svc = SVC(probability=True)\n",
        "gnb= GaussianNB()\n",
        "rfc = RandomForestClassifier()\n",
        "\n",
        "classifiers = [('LogisticRegression', lr),\n",
        "           (\"Supportvector\",svc)  ,\n",
        "              (\"GaussianNB\",gnb),\n",
        "              ('rfc',rfc)]"
      ],
      "execution_count": null,
      "outputs": []
    },
    {
      "cell_type": "markdown",
      "metadata": {
        "id": "wO6u0KiajCWR"
      },
      "source": [
        "Training and testing of each classifier independently \n",
        "\n",
        "***NB: As we can see there is class imbalance problem is present on the dataset, AUC would be indecator of a better model rather than accuracy. ***\n"
      ]
    },
    {
      "cell_type": "code",
      "metadata": {
        "trusted": true,
        "id": "KbUM8O3pjCWR",
        "outputId": "270d9225-3357-4ac1-e7ae-2b93975c6328"
      },
      "source": [
        "for clf_name, clf in classifiers:\n",
        "    clf.fit(X_train_normed, y_train)\n",
        "    y_pred = clf.predict(X_test_normed)\n",
        "    clf_auc_score = roc_auc_score(y_test, clf.predict_proba(X_test_normed)[:, 1])\n",
        "    print('{:s} : {:.3f}'.format(clf_name, accuracy_score(y_test, y_pred)))\n",
        "    print('{:s} AUC score : {:.3f}'.format(clf_name, clf_auc_score))\n",
        "    print('\\n')"
      ],
      "execution_count": null,
      "outputs": [
        {
          "output_type": "stream",
          "text": [
            "LogisticRegression : 0.793\n",
            "LogisticRegression AUC score : 0.755\n",
            "\n",
            "\n",
            "Supportvector : 0.767\n",
            "Supportvector AUC score : 0.722\n",
            "\n",
            "\n",
            "GaussianNB : 0.747\n",
            "GaussianNB AUC score : 0.700\n",
            "\n",
            "\n",
            "rfc : 0.740\n",
            "rfc AUC score : 0.710\n",
            "\n",
            "\n"
          ],
          "name": "stdout"
        }
      ]
    },
    {
      "cell_type": "markdown",
      "metadata": {
        "id": "nmyxGscdjCWS"
      },
      "source": [
        "# Create Ensemble model(Soft Voting classifier)"
      ]
    },
    {
      "cell_type": "code",
      "metadata": {
        "trusted": true,
        "id": "wNyHdoAnjCWS",
        "outputId": "3b9b33d9-b25f-42bc-8e2d-174ceedc59e6"
      },
      "source": [
        "# declare VotingClassifier 'vc_soft'\n",
        "vc_soft = VotingClassifier(estimators=classifiers,voting='soft')\n",
        "vc_soft.fit(X_train_normed, y_train)\n",
        "y_pred_vc = vc_soft.predict(X_test_normed)\n",
        "print('Voting Classifier accuracy: {}'.format(accuracy_score(y_test, y_pred_vc)))\n",
        "vc_auc_score = roc_auc_score(y_test, vc_soft.predict_proba(X_test_normed)[:, 1])\n",
        "print(f'\\n VotingClassifier AUC score: {vc_auc_score:.3f}')\n"
      ],
      "execution_count": null,
      "outputs": [
        {
          "output_type": "stream",
          "text": [
            "Voting Classifier accuracy: 0.78\n",
            "\n",
            " VotingClassifier AUC score: 0.750\n"
          ],
          "name": "stdout"
        }
      ]
    },
    {
      "cell_type": "code",
      "metadata": {
        "trusted": true,
        "id": "o42wEzOPjCWS",
        "outputId": "e7f2d5db-10bb-4002-b4ad-9c13a71af986"
      },
      "source": [
        "from sklearn.metrics import classification_report\n",
        "print(classification_report(y_test,y_pred))"
      ],
      "execution_count": null,
      "outputs": [
        {
          "output_type": "stream",
          "text": [
            "              precision    recall  f1-score   support\n",
            "\n",
            "           0       0.80      0.89      0.84       114\n",
            "           1       0.43      0.28      0.34        36\n",
            "\n",
            "    accuracy                           0.74       150\n",
            "   macro avg       0.62      0.58      0.59       150\n",
            "weighted avg       0.71      0.74      0.72       150\n",
            "\n"
          ],
          "name": "stdout"
        }
      ]
    },
    {
      "cell_type": "markdown",
      "metadata": {
        "id": "rwgzUL5BjCWT"
      },
      "source": [
        "# Future work\n",
        "\n",
        "Use gridsearch CV and randomized search cv with ensemble model to see if performances can be more tuned or not."
      ]
    }
  ]
}